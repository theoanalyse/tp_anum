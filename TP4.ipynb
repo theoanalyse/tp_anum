{
 "cells": [
  {
   "cell_type": "markdown",
   "metadata": {},
   "source": [
    "# Quatrième compte rendu, Analyse Numérique"
   ]
  },
  {
   "cell_type": "markdown",
   "metadata": {},
   "source": [
    " \n",
    "---\n",
    "\n",
    "<center> Abstract </center>\n",
    "\n",
    "Dans ce quatrième travail pratique, nous nous concentrons sur le calcul de valeurs propres via une approche numérique. L'objectif est alors d'implémenter, dans un premier temps, l'algorithme de la méthode de la puissance pour l'appliquer à deux matrices qui nous sont familières puis, dans un second celui de la méthode $QR$.\n",
    "\n",
    "---"
   ]
  },
  {
   "cell_type": "markdown",
   "metadata": {},
   "source": [
    "La recherche des valeurs propre d'un endomorphisme $A$ sur un espace $E$ en général égal ou assimilé à $\\mathbb{R}^n$ peut s'avérer être une tâche laborieuse (surtout quand $\\dim(E) > 2$ ). Les méthodes numériques sont alors là pour nous simplifier grandement le travail. En effet là où la méthode de la puissance utile pour étudier la convergence d'autres méthodes numériques, la méthode QR permet, quant à elle, d'obtenir le spectre $\\text{sp}(A)$ tout entier.\n",
    "\n",
    "Commençons sans plus attendre par la première méthode :\n",
    "\n",
    "### Exercice 1 : Méthode de la puissance"
   ]
  },
  {
   "cell_type": "code",
   "execution_count": 39,
   "metadata": {},
   "outputs": [],
   "source": [
    "# les eternels imports\n",
    "import numpy as np\n",
    "import numpy.linalg as la\n",
    "import scipy as sp\n",
    "import scipy.linalg as spla\n",
    "import matplotlib.pyplot as plt"
   ]
  },
  {
   "cell_type": "code",
   "execution_count": 40,
   "metadata": {},
   "outputs": [],
   "source": [
    "# deux petites commandes qui augmentent la lisibilité des matrices\n",
    "np.set_printoptions(precision=2) # n'affiche que deux nombres après la virgule\n",
    "np.set_printoptions(suppress=True) # lorsqu'un nombre est plus petit que l'erreur machine, numpy le remplace par 0\n",
    "                                   # dans le but d'éviter d'avoir une matrice avec coefficient 1.2 * 10^{-302}"
   ]
  },
  {
   "cell_type": "markdown",
   "metadata": {},
   "source": [
    "Dans un premier temps, nous définissons une première fonction qui permet d'évaluer la quantité $\\langle Ax \\vert x \\rangle$ autant de fois que souhaité. Cette fonctions nous sera d'une grande aide lors des itérations de la méthode."
   ]
  },
  {
   "cell_type": "code",
   "execution_count": 41,
   "metadata": {},
   "outputs": [],
   "source": [
    "def evaluate_ax_dot_x(A, x0, nb_iter):\n",
    "    # input : A : np array and nb_iter : integer\n",
    "    x_iter = x0\n",
    "    for i in range(nb_iter+1):\n",
    "        y = np.dot(A, x_iter)\n",
    "        x_iter = y / la.norm(y)\n",
    "    return np.dot(np.dot(A, x_iter), x_iter)"
   ]
  },
  {
   "cell_type": "markdown",
   "metadata": {},
   "source": [
    "Bien, désormais, nous allons appliquer la méthode de la puissance aux matrices suivantes :\n",
    "\n",
    "$$ A_1 = \\begin{pmatrix} 10 & 7 & 8 & 7 \\\\ 7 & 5 & 6 & 5 \\\\ 8 & 6 & 10 & 9 \\\\ 7 & 5 & 9 & 10 \\end{pmatrix}$$\n",
    "\n",
    "et $A_2$ est la matrice des différences finies déjà étudiée dans les précédents TP.\n",
    "\n",
    "$$A_2 = \\begin{pmatrix} 2 & -1 & & &\\large{0} \\\\ -1 & 2 & -1 &  &  \\\\  & -1 & \\ddots &   &  \\\\  &  & & \\ddots & -1 \\\\ \\large{0} & & & -1 & 2\\end{pmatrix}$$\n",
    "\n",
    "par ailleurs nous écrivons une fonction en python pour construire la matrice $A_2$ selon la dimension $n \\in \\mathbb{N}$ choisie."
   ]
  },
  {
   "cell_type": "code",
   "execution_count": 42,
   "metadata": {},
   "outputs": [],
   "source": [
    "n = 10\n",
    "h = 1 / (n+1)\n",
    "\n",
    "def construct_FDM_matrix(n):\n",
    "    A = np.zeros([n, n])\n",
    "    for i in range(n):\n",
    "        for j in range(n):\n",
    "            if i == j:\n",
    "                A[i][j] = 2 / h**2\n",
    "            if (j == i + 1 or j == i-1 or i == j-1 or i == j+1):\n",
    "                A[i][j] = -1 / h**2\n",
    "    return A"
   ]
  },
  {
   "cell_type": "markdown",
   "metadata": {},
   "source": [
    "Dès lors nous nous appliquons à bien ajouter $A_1$ et $A_2$ dans notre programme"
   ]
  },
  {
   "cell_type": "code",
   "execution_count": 43,
   "metadata": {},
   "outputs": [],
   "source": [
    "A1 = np.array([[10, 7, 8, 7],\n",
    "              [7 , 5, 6, 5],\n",
    "              [8, 6, 10, 9],\n",
    "              [7, 5, 9, 10]], float)\n",
    "\n",
    "A2 = construct_FDM_matrix(10)"
   ]
  },
  {
   "cell_type": "markdown",
   "metadata": {},
   "source": [
    "##### Petit scénario :\n",
    "\n",
    "Imaginons que nous sommes dans une situation où la résolution d'un système linéaire $Ax = b$ via la méthode de Jacobi ou Gauss-Seidel est d'une importance capitale. Il faut avant toute chose calculer les valeurs propres des matrices des itérations $B_J$ et $B_{GS}$, en effet il serait dommage de s'entêter à appliquer une méthode alors même qu'elle ne converge pas. Si le système en question est de taille $2 \\times 2$, le calcul des valeurs propres se fait assez aisément (et les méthodes numériques peu pertinentes dans ce cas). Si en revanche, c'est un système $1000 \\times 1000$, la méthode de la puissance nous sera d'une grande aide...\n",
    "\n",
    "Et bien supposons qu'il n'y ait pas un mais deux systèmes à résoudre et que les matrices en question sont (par tout hasard) les matrices $A_1$ et $A_2$ définies plus tôt. Décomposons alors pour $i \\in \\{1, 2 \\}$, les matrices $A_1$ et $A_2$ sous la forme $D_i - E_i - F_i$ déjà vue en cours et prenons les matrices $B_{J_i}$ et $B_{GS_i}$ définies par\n",
    "$B_{J_i} = D_i^{-1}(E_i + F_i)$ et $B_{GS_i} = (D_i - E_i)^{-1}F_i$."
   ]
  },
  {
   "cell_type": "code",
   "execution_count": 44,
   "metadata": {},
   "outputs": [],
   "source": [
    "D1 = np.diag(np.diag(A1))\n",
    "F1 = -(np.triu(A1) - D1)\n",
    "E1 = -(np.tril(A1) - D1)\n",
    "BJ1 = np.dot(la.inv(D1), E1 + F1)\n",
    "BGS1 = np.dot(la.inv(D1 - E1), F1)\n",
    "\n",
    "D2 = np.diag(np.diag(A2))\n",
    "F2 = -(np.triu(A2) - D2)\n",
    "E2 = -(np.tril(A2) - D2)\n",
    "BJ2 = np.dot(la.inv(D2), E2 + F2)\n",
    "BGS2 = np.dot(la.inv(D2 - E2), F2)"
   ]
  },
  {
   "cell_type": "markdown",
   "metadata": {},
   "source": [
    "Il ne reste plus qu'a appliquer l'algorithme de la puissance aux matrices $B_{J_i}$ et $B_{GS_i}$, on s'assure de prendre un nombre suffisamment grand et on itère."
   ]
  },
  {
   "cell_type": "code",
   "execution_count": 45,
   "metadata": {},
   "outputs": [
    {
     "name": "stdout",
     "output_type": "stream",
     "text": [
      "BJ1 -2.475791451151615\n",
      "BGS1 0.9969014491757103\n",
      "BJ2 0.9594929736144879\n",
      "BGS2 0.9206267664157127\n"
     ]
    }
   ],
   "source": [
    "nb_iterations = 100\n",
    "\n",
    "\n",
    "u = [1, 1, 1, 1]\n",
    "v = [1 for _ in range(10)]\n",
    "\n",
    "rj_1 = evaluate_ax_dot_x(BJ1, np.array(u, float), nb_iterations)\n",
    "rgs_1 = evaluate_ax_dot_x(BGS1, np.array(u, float), nb_iterations)\n",
    "rj_2 = evaluate_ax_dot_x(BJ2, np.array(v, float), nb_iterations)\n",
    "rgs_2 =  evaluate_ax_dot_x(BGS2, np.array(v, float), nb_iterations)\n",
    "\n",
    "print(\"BJ1\", rj_1 )\n",
    "print(\"BGS1\", rgs_1)\n",
    "print(\"BJ2\", rj_2)\n",
    "print(\"BGS2\", rgs_2)"
   ]
  },
  {
   "cell_type": "markdown",
   "metadata": {},
   "source": [
    "**Bonus** : Je me permets de mettre sur un graphe (un peu rudimentaire certes) les différents rayons spectraux trouvés ainsi que la droite d'équation $y = 1$ pour laquelle si un point est (sur ou) au dessus de la droite, alors la méthode ne converge pas. En l'occurrence on peut voir que toutes les méthodes convergent, sauf celle de Jacobi pour la matrice $A_1$"
   ]
  },
  {
   "cell_type": "code",
   "execution_count": 46,
   "metadata": {},
   "outputs": [
    {
     "data": {
      "image/png": "[encoded data removed]",
      "text/plain": [
       "<Figure size 432x288 with 1 Axes>"
      ]
     },
     "metadata": {
      "needs_background": "light"
     },
     "output_type": "display_data"
    }
   ],
   "source": [
    "fig = plt.figure()\n",
    "ax1 = fig.add_subplot(111)\n",
    "\n",
    "ax1.scatter([0, 1, 2, 3], [np.abs(rj_1), rgs_1, rj_2, rgs_2], s=5, c='b')\n",
    "ax1.plot([t for t in range(4)], [1 for _ in range(4)], 'r', lw=1)\n",
    "plt.show()"
   ]
  },
  {
   "cell_type": "markdown",
   "metadata": {},
   "source": [
    "**Remarque** : S'il est décidé de normaliser le produit $Ax$ par une autre norme que $||\\cdot||_2$,  la méthode ne va jamais converger, en effet on rappelle que la norme  $||\\cdot||_2$ est induite par le produit scalaire euclidien. Un correctif possible est alors de munir $\\mathbb{R}^n$ d'un produit scalaire $\\langle \\cdot | \\cdot \\rangle $ puis normaliser par la nouvelle norme induite (attention, il faut s'assurer que l'identité du parallélogramme reste vérifiée pour le produit scalaire choisi). \n",
    "\n",
    "\n",
    "### Exercice 2 : La méthode QR\n",
    "\n",
    "\n",
    "Comme rappelé dans l'énoncé, la méthode QR permet de trouver les valeurs propres d'une matrice. Pour ce faire, on procède à la décomposition $QR$ d'une matrice "
   ]
  },
  {
   "cell_type": "code",
   "execution_count": 47,
   "metadata": {},
   "outputs": [],
   "source": [
    "def qr_method(A, err):\n",
    "    max_iter = 1000\n",
    "    iter = 0\n",
    "    B = A\n",
    "    while iter < max_iter:\n",
    "        q, r = la.qr(B)\n",
    "        B = np.dot(r, q)\n",
    "        iter += 1\n",
    "    return B"
   ]
  },
  {
   "cell_type": "code",
   "execution_count": 55,
   "metadata": {},
   "outputs": [
    {
     "name": "stdout",
     "output_type": "stream",
     "text": [
      "[[     6.        4.09    -89.11 -10359.75]\n",
      " [     0.        5.        7.79   1633.65]\n",
      " [     0.        0.        2.       77.92]\n",
      " [     0.        0.        0.        1.  ]]\n",
      "\n",
      "[[    5.     -12.27   -24.09 -5748.15]\n",
      " [    0.       2.       3.91  -283.06]\n",
      " [    0.      -0.      -1.12  -126.39]\n",
      " [    0.       0.       0.       1.12]]\n",
      "[-1.  1.]\n"
     ]
    }
   ],
   "source": [
    "M = np.random.random(16).reshape(4, 4) # On travaille dans M_4(R) donc on prend 16 coefficients pour générer M\n",
    "P = np.dot(M.T, M)\n",
    "Pinv = la.inv(P)\n",
    "\n",
    "while la.det(P) <= 10e-7:\n",
    "    # Jackpot !\n",
    "    M = np.random.random(16).reshape(4, 4)\n",
    "    P = np.dot(M.T, M)\n",
    "    Pinv = la.inv(P)\n",
    "\n",
    "D1 = np.diag([6, 5, 2, 1])\n",
    "D2 = np.diag([5, 1, 2, 6])\n",
    "D3 = np.diag([5, 3, 2, 3])\n",
    "D4 = np.array([[5, 0, 0, 0], [0, 2, 0, 0], [0, 0, 0, 1], [0, 0, 1, 0]], float)\n",
    "\n",
    "\n",
    "mat1 = np.dot(np.dot(P, D1), Pinv)\n",
    "mat2 = np.dot(np.dot(P, D2), Pinv)\n",
    "mat3 = np.dot(np.dot(P, D3), Pinv)\n",
    "mat4 = np.dot(np.dot(P, D4), Pinv)\n",
    "\n",
    "err = 10e-16\n",
    "\n",
    "B1 = qr_method(mat1, err)\n",
    "\n",
    "print(B1)\n",
    "\n",
    "B2 = qr_method(mat2, err)\n",
    "B3 = qr_method(mat3, err)\n",
    "B4 = qr_method(mat4, err)\n",
    "\n",
    "B4min = B4[2:, 2:]\n",
    "ev = la.eigvals(B4min)\n",
    "\n",
    "print(\"\")\n",
    "\n",
    "print(B4)\n",
    "\n",
    "print(ev)"
   ]
  }
 ],
 "metadata": {
  "kernelspec": {
   "display_name": "Python 3",
   "language": "python",
   "name": "python3"
  },
  "language_info": {
   "codemirror_mode": {
    "name": "ipython",
    "version": 3
   },
   "file_extension": ".py",
   "mimetype": "text/x-python",
   "name": "python",
   "nbconvert_exporter": "python",
   "pygments_lexer": "ipython3",
   "version": "3.8.6"
  }
 },
 "nbformat": 4,
 "nbformat_minor": 4
}
