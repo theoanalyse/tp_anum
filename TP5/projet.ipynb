{
 "cells": [
  {
   "cell_type": "markdown",
   "metadata": {},
   "source": [
    "## Projet d'Analyse Numérique\n",
    "\n",
    "\n",
    "\n",
    "1) il s'agit d'une discrétisation du problème par différences finies\n"
   ]
  },
  {
   "cell_type": "code",
   "execution_count": 112,
   "metadata": {},
   "outputs": [],
   "source": [
    "# les eternels imports\n",
    "import numpy as np\n",
    "import numpy.linalg as la\n",
    "import scipy as sp\n",
    "import scipy.linalg as spla\n",
    "import matplotlib.pyplot as plt"
   ]
  },
  {
   "cell_type": "markdown",
   "metadata": {},
   "source": [
    "Pour rappel, la fonction $R : \\mathbb{R}^n \\to \\mathbb{R}^n$ est définie par\n",
    "\n",
    "$$ (R(u))_i = \\sum_{j \\ne i, \\ j=1}^{n} \\left[ \\frac{\\sqrt{h}}{\\sqrt{|i - j|}} (u_i^4 - u_j^4 ) \\right] + \\frac{\\sqrt{h}}{2 \\sqrt{i}}(u_i^4 - 1 ) + \\frac{\\sqrt{h}}{2 \\sqrt{n + 1 - i}} (u_i^4 - 16) $$"
   ]
  },
  {
   "cell_type": "code",
   "execution_count": 113,
   "metadata": {},
   "outputs": [
    {
     "name": "stdout",
     "output_type": "stream",
     "text": [
      "[[ 520.2 -260.1    0.  ...    0.     0.     0. ]\n",
      " [-260.1  520.2 -260.1 ...    0.     0.     0. ]\n",
      " [   0.  -260.1  520.2 ...    0.     0.     0. ]\n",
      " ...\n",
      " [   0.     0.     0.  ...  520.2 -260.1    0. ]\n",
      " [   0.     0.     0.  ... -260.1  520.2 -260.1]\n",
      " [   0.     0.     0.  ...    0.  -260.1  520.2]]\n",
      "[260.1   0.    0.    0.    0.    0.    0.    0.    0.    0.    0.    0.\n",
      "   0.    0.    0.    0.    0.    0.    0.    0.    0.    0.    0.    0.\n",
      "   0.    0.    0.    0.    0.    0.    0.    0.    0.    0.    0.    0.\n",
      "   0.    0.    0.    0.    0.    0.    0.    0.    0.    0.    0.    0.\n",
      "   0.  520.2]\n"
     ]
    }
   ],
   "source": [
    "n = 50\n",
    "h = 1 / (n + 1)\n",
    "h2 = h*h\n",
    "\n",
    "def function_R(u):\n",
    "    # input : u \\in R^n\n",
    "    R = []\n",
    "    for i in range(n): \n",
    "        r_i = 0\n",
    "        for j in range(n):\n",
    "            if j != i:\n",
    "                term = np.sqrt(h) * (u[i]**4 - u[j]**4) / np.sqrt(np.abs(i - j))\n",
    "                r_i += term\n",
    "        r_i += np.sqrt(h) * (u[i]**4 - 1) / (2 * np.sqrt(1 + i))\n",
    "        r_i += np.sqrt(h) * (u[i]**4 - 16) / (2 * np.sqrt(n - i))\n",
    "        R.append(r_i)\n",
    "    #return np.zeros(n)\n",
    "    return np.array(R, float)\n",
    "\n",
    "\n",
    "A = np.zeros((n, n))\n",
    "for j in range(n):\n",
    "    for i in range(n):\n",
    "        if j == i:\n",
    "            A[i, j] = 2\n",
    "        elif np.abs(j - i) == 1:\n",
    "            A[i, j] = -1\n",
    "\n",
    "A = A / (10 * h2)\n",
    "print(A)\n",
    "\n",
    "b = np.zeros(n)\n",
    "b[0] = 1 / (10 * h2)\n",
    "b[n-1] = 2 / (10 * h2)\n",
    "print(b)"
   ]
  },
  {
   "cell_type": "code",
   "execution_count": 122,
   "metadata": {},
   "outputs": [],
   "source": [
    "def methode_iterative(A, b, funcR, beta, u0=np.ones(n)):\n",
    "    max_iter = 500\n",
    "    iter = 0\n",
    "    res = 1\n",
    "    u = u0\n",
    "    while iter < max_iter and res > 1e-7:\n",
    "        # (A + beta I) uk+1 = -R(uk) + beta uk + b\n",
    "        A_ = A + beta * np.identity(n)\n",
    "        b_ = - funcR(u) + beta * u + b\n",
    "        \n",
    "        sol = la.solve(A_, b_)\n",
    "        res = la.norm((u - sol))\n",
    "        \n",
    "        # --- test de monotonie ---\n",
    "        # if np.min(u - sol) < 0:\n",
    "        #   print(\"pas monotone\", iter)\n",
    "        # u = sol\n",
    "        # --- fin du test de monotonie ---\n",
    "        \n",
    "        u = sol\n",
    "        \n",
    "        iter += 1\n",
    "    return u, iter"
   ]
  },
  {
   "cell_type": "code",
   "execution_count": 123,
   "metadata": {},
   "outputs": [
    {
     "name": "stdout",
     "output_type": "stream",
     "text": [
      "57\n"
     ]
    },
    {
     "data": {
      "text/plain": [
       "[<matplotlib.lines.Line2D at 0x1a7d8358af0>]"
      ]
     },
     "execution_count": 123,
     "metadata": {},
     "output_type": "execute_result"
    },
    {
     "data": {
      "image/png": "[encoded data removed]",
      "text/plain": [
       "<Figure size 432x288 with 1 Axes>"
      ]
     },
     "metadata": {},
     "output_type": "display_data"
    }
   ],
   "source": [
    "x = np.array([i*h for i in range(1, n+1)])\n",
    "u, nb_iter = methode_iterative(A, b, function_R, 12)\n",
    "print(nb_iter)\n",
    "plt.plot(x, u)"
   ]
  },
  {
   "cell_type": "markdown",
   "metadata": {},
   "source": [
    "b) faire des tests avec différents $\\beta$ n=10, 12, 20, 30, 60 et 120 sont des bonnes valeurs\n",
    "\n",
    "La valeur de $\\beta$ va, toutefois, être impliquée dans le nombre d'itérations nécessaires à la convergence de la méthode. Une façon de rendre compte de cet effet, est de faire un petit graphique sur lequel nous avons en abscisses la valeur de $\\beta$ et en ordonnée le nombre d'itérations avant d'obtenir la solution. Le code python suivant réalise ce que nous venons d'énoncer :"
   ]
  },
  {
   "cell_type": "code",
   "execution_count": 116,
   "metadata": {},
   "outputs": [
    {
     "data": {
      "text/plain": [
       "[<matplotlib.lines.Line2D at 0x1a7d8263b20>]"
      ]
     },
     "execution_count": 116,
     "metadata": {},
     "output_type": "execute_result"
    },
    {
     "data": {
      "image/png": "[encoded data removed]",
      "text/plain": [
       "<Figure size 432x288 with 1 Axes>"
      ]
     },
     "metadata": {},
     "output_type": "display_data"
    }
   ],
   "source": [
    "list_beta = np.linspace(11.5, 13.5, 5) # va de a à b avec n subdivision\n",
    "list_iter = []\n",
    "\n",
    "for beta in list_beta:\n",
    "    sol, nb_iter = methode_iterative(A, b, beta)\n",
    "    list_iter.append(nb_iter)\n",
    "    \n",
    "plt.style.use('ggplot')\n",
    "plt.plot(list_beta, list_iter, 'purple')"
   ]
  },
  {
   "cell_type": "markdown",
   "metadata": {},
   "source": [
    "La valeur de $\\beta$ semble donc influencer, non-seulement, la convergence mais aussi le nombre d'itérations nécessaires à la méthode pour converger. Naturellement, on peut se demander si $\\beta$ jouera aussi un rôle quant à la solution trouvée... Et la réponse est non ! En effet il suffit,pour cela, de se placer dans des conditions sous lesquelles la méthode converge puis écrire\n",
    "\n",
    "$$  Au^{(k+1)} + \\beta u^{(k+1)} = - R(u^{(k)}) + \\beta u^{(k)} + b \\ \\biggr\\vert_{k \\to +\\infty}$$\n",
    "\n",
    "qui, sachant $u^{(k)} \\to u$ lorsque $k$ grandit, donne\n",
    "\n",
    "$$ Au + \\beta u = -R(u) + \\beta u + b$$\n",
    "\n",
    "Les termes en $\\beta u$ se simplifient pour donner\n",
    "\n",
    "$$ Au = -R(u) + b $$\n",
    "\n",
    "qui est solution du problème; solution dans laquelle $\\beta$ n'intervient pas."
   ]
  },
  {
   "cell_type": "code",
   "execution_count": 118,
   "metadata": {},
   "outputs": [],
   "source": [
    "def new_R(u):\n",
    "    # input : u \\in R^n\n",
    "    R = []\n",
    "    for i in range(n): \n",
    "        r_i = 0\n",
    "        for j in range(n):\n",
    "            if j != i:\n",
    "                term = 2 * np.sqrt(h) * (u[i]**4 - u[j]**4) / ( np.sqrt(np.abs(i - j) + 0.5) + np.sqrt(np.abs(i - j) - 0.5))\n",
    "                r_i += term\n",
    "        r_i += np.sqrt(h) * (u[i]**4 - 1) / (np.sqrt(1 + i) + np.sqrt(1 + i - 0.5))\n",
    "        r_i += np.sqrt(h) * (u[i]**4 - 16) / (np.sqrt(n - i) + np.sqrt(n - i - 0.5))\n",
    "        R.append(r_i)\n",
    "    #return np.zeros(n)\n",
    "    return np.array(R, float)"
   ]
  },
  {
   "cell_type": "code",
   "execution_count": 124,
   "metadata": {},
   "outputs": [
    {
     "data": {
      "text/plain": [
       "[<matplotlib.lines.Line2D at 0x1a7d83bf7c0>]"
      ]
     },
     "execution_count": 124,
     "metadata": {},
     "output_type": "execute_result"
    },
    {
     "data": {
      "image/png": "[encoded data removed]",
      "text/plain": [
       "<Figure size 432x288 with 1 Axes>"
      ]
     },
     "metadata": {},
     "output_type": "display_data"
    }
   ],
   "source": [
    "list_beta = np.linspace(11, 19, 10) # va de a à b avec n subdivision\n",
    "list_iter = []\n",
    "\n",
    "for beta in list_beta:\n",
    "    sol, nb_iter = methode_iterative(A, b, new_R, beta)\n",
    "    list_iter.append(nb_iter)\n",
    "    \n",
    "plt.style.use('ggplot')\n",
    "plt.plot(list_beta, list_iter, 'orange')"
   ]
  },
  {
   "cell_type": "markdown",
   "metadata": {},
   "source": [
    "**Remarque : La valeur du beta optimal n'a pas l'air d'avoir bougé**"
   ]
  },
  {
   "cell_type": "code",
   "execution_count": 125,
   "metadata": {},
   "outputs": [],
   "source": [
    "newA = np.zeros((n, n))\n",
    "for j in range(n):\n",
    "    for i in range(n):\n",
    "        if j == i:\n",
    "            newA[i, j] = 2\n",
    "        elif np.abs(j - i) == 1:\n",
    "            newA[i, j] = -1\n",
    "\n",
    "newA = newA / h2"
   ]
  },
  {
   "cell_type": "code",
   "execution_count": 128,
   "metadata": {},
   "outputs": [
    {
     "name": "stdout",
     "output_type": "stream",
     "text": [
      "43\n"
     ]
    },
    {
     "data": {
      "text/plain": [
       "[<matplotlib.lines.Line2D at 0x1a7d8481250>]"
      ]
     },
     "execution_count": 128,
     "metadata": {},
     "output_type": "execute_result"
    },
    {
     "data": {
      "image/png": "[encoded data removed]",
      "text/plain": [
       "<Figure size 432x288 with 1 Axes>"
      ]
     },
     "metadata": {},
     "output_type": "display_data"
    }
   ],
   "source": [
    "x = np.array([i*h for i in range(1, n+1)])\n",
    "u, nb_iter = methode_iterative(newA, b, new_R, 20\n",
    "                              \n",
    "                              \n",
    "                              \n",
    "                              \n",
    "                              \n",
    "                              )\n",
    "print(nb_iter)\n",
    "plt.plot(x, u)"
   ]
  },
  {
   "cell_type": "markdown",
   "metadata": {},
   "source": [
    "diffusion tellement forte qu'on ne voit plus le rayonnement (l'effet rayonnement disparait )"
   ]
  }
 ],
 "metadata": {
  "kernelspec": {
   "display_name": "Python 3",
   "language": "python",
   "name": "python3"
  },
  "language_info": {
   "codemirror_mode": {
    "name": "ipython",
    "version": 3
   },
   "file_extension": ".py",
   "mimetype": "text/x-python",
   "name": "python",
   "nbconvert_exporter": "python",
   "pygments_lexer": "ipython3",
   "version": "3.8.5"
  }
 },
 "nbformat": 4,
 "nbformat_minor": 4
}
