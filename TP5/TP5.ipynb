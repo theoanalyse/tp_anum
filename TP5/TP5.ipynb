{
 "cells": [
  {
   "cell_type": "markdown",
   "metadata": {},
   "source": [
    "## Cinquième compte rendu, Analyse Numérique"
   ]
  },
  {
   "cell_type": "markdown",
   "metadata": {},
   "source": [
    "---\n",
    "\n",
    "<center> Abstract </center>\n",
    "\n",
    "Dans ce travail pratique, il sera question d'appliquer la méthode de Newton à différents systèmes, tout d'abord dans un cas simple, unidimensionel (sur $\\mathbb R$ donc) pour approximer la valeur de $\\sqrt{3}$, avant d'étudier les équations du pendule non linéarisées, dont nous tracerons le portrait de phase. Puis enfin, il s'agira de se concentrer sur un problème appliqué à un cas pratique à base d'échelles reposant sur un mur.\n",
    "\n",
    "---"
   ]
  },
  {
   "cell_type": "code",
   "execution_count": 2,
   "metadata": {},
   "outputs": [],
   "source": [
    "# les eternels imports\n",
    "import numpy as np\n",
    "import numpy.linalg as la\n",
    "import scipy as sp\n",
    "import scipy.linalg as spla\n",
    "import matplotlib.pyplot as plt"
   ]
  },
  {
   "cell_type": "markdown",
   "metadata": {},
   "source": [
    "### Exercice : 1 La valeur de racine de 3\n",
    "\n",
    "Que l'on se demande combien vaut exactement le double du cosinus de l'angle $\\frac{\\pi}{6}$, la distance entre deux côtés opposés d'un hexagone régulier de côté 1 ou encore la longueur de la diagonale d'un cube de côté 1; la réponse est dans tous les cas $\\sqrt{3}$. Tout bon mathématicien sait que ce nombre - que l'on retrouve aussi sous le nom de _constante de Théodorus_ dans la litérature - s'évalue à peu près à 1.7, mais peut-on faire mieux ?\n",
    "\n",
    "Une première approche à ce problème revient à définir une fonction $g$ dont nous savons pertinemment que $\\sqrt{3}$ est une solution et appliquer la méthode du point fixe. En cherchant un peu, on tombe vite sur la fonction $g(x) = x^2 - 3$. \n",
    "\n",
    "Sans plus attendre, implémentons la méthode du point fixe, à savoir prenons notre fonction $g$ définie auparavant et posons $f(x) = x - g(x)$, cette définition ne sort pas de nulle part, il suffit de remarquer que tout zéro de $g$ sera point fixe de $f$. Ajoutons alors nos deux applications au code ainsi que les itérations de la méthode du point fixe dont nous rappelons le principe :\n",
    "\n",
    "- **init** : prendre $x_0 \\in \\mathbb R$ \n",
    "- **iter** : pour $x_k \\in \\mathbb R$ connu, on définit $x_{k+1} = f(x_k)$\n",
    "\n",
    "Dans la suite on choisira le point de départ $x_0 = 1$ subjectivement proche de $\\sqrt3$."
   ]
  },
  {
   "cell_type": "code",
   "execution_count": 3,
   "metadata": {},
   "outputs": [
    {
     "name": "stdout",
     "output_type": "stream",
     "text": [
      "-58576059\n"
     ]
    }
   ],
   "source": [
    "# la fonction g définie en introduction\n",
    "def g(x):\n",
    "    return x**2 - 3\n",
    "\n",
    "# la fonction f sur laquelle on applique la méthode du point fixe\n",
    "def f(x):\n",
    "    return x - g(x)\n",
    "\n",
    "# implémentation de la méthode du point fixe\n",
    "def iter_point_fixe(nb_iter=10, x0=0):\n",
    "    x_iter = x0 # on initialise le x_0\n",
    "    for i in range(nb_iter): # pour un certain nombre d'itération nb_iter donné en paramètre on boucle\n",
    "        x_iter = f(x_iter) # définition de x_k+1 comme étant f(x_k)\n",
    "    return x_iter # on renvoie la dernière valeur de x_k\n",
    "\n",
    "nb_iter = 6\n",
    "x0 = 1 \n",
    "print(iter_point_fixe(nb_iter, x0)) "
   ]
  },
  {
   "cell_type": "markdown",
   "metadata": {},
   "source": [
    "Et patatra ! La méthode ne converge pas du tout, elle semble même s'éloigner de plus en plus... Mais pas de panique, cela vient du fait que nous ayons oublié de considérer l'une des hypothèses de convergence dans notre démarche : l'application $f$ doit être **contractante**\n",
    "\n",
    "Or un rapide calcul donne $f'(x) = \\frac{d}{dx} \\left( x - g'(x) \\right) = 1 - 2x$ qui n'est pas du tout bornée sur $\\mathbb R$ (donc encore moins par 1) et est donc non contractante, la méthode n'aurait jamais pu converger (sauf si l'on part du point $x_0 = \\sqrt{3}$).\n",
    "\n",
    "Il reste possible de sauver les meubles en appliquant une relaxation sur la méthode en introduisant un paramètre $\\omega$ à valeur dans $]0, 1[$ et en définissant la nouvelle itération comme \n",
    "\n",
    "- **iter** : $x_k \\in \\mathbb R$ connu et on pose  $x_{k+1} = \\omega f(x_k) + (1 - w) x_k$"
   ]
  },
  {
   "cell_type": "code",
   "execution_count": 4,
   "metadata": {},
   "outputs": [
    {
     "name": "stdout",
     "output_type": "stream",
     "text": [
      "x0 = 1\n",
      "0.1\n",
      "(1.7320507, 37)\n",
      "0.2\n",
      "(1.7320508, 15)\n",
      "0.3\n",
      "(1.7320508, 5)\n",
      "0.4\n",
      "(1.7320508, 17)\n",
      "0.5\n",
      "(1.7320508, 52)\n",
      "0.6\n",
      "ne converge pas\n",
      "0.7\n",
      "ne converge pas\n",
      "0.8\n",
      "ne converge pas\n",
      "0.9\n",
      "ne converge pas\n",
      "x0 = 2\n",
      "0.1\n",
      "(1.7320509, 34)\n",
      "0.2\n",
      "(1.7320508, 14)\n",
      "0.3\n",
      "(1.7320508, 6)\n",
      "0.4\n",
      "(1.7320508, 18)\n",
      "0.5\n",
      "(1.7320508, 51)\n",
      "0.6\n",
      "ne converge pas\n",
      "0.7\n",
      "ne converge pas\n",
      "0.8\n",
      "ne converge pas\n",
      "0.9\n",
      "ne converge pas\n",
      "x0 = 4\n",
      "0.1\n",
      "(1.732051, 37)\n",
      "0.2\n",
      "(1.7320508, 15)\n",
      "0.3\n",
      "(1.7320508, 8)\n",
      "0.4\n",
      "(1.7320508, 21)\n",
      "0.5\n",
      "ne converge pas\n",
      "0.6\n",
      "ne converge pas\n",
      "0.7\n",
      "ne converge pas\n",
      "0.8\n",
      "ne converge pas\n",
      "0.9\n",
      "ne converge pas\n",
      "x0 = 8\n",
      "0.1\n",
      "(1.7320509, 34)\n",
      "0.2\n",
      "ne converge pas\n",
      "0.3\n",
      "ne converge pas\n",
      "0.4\n",
      "ne converge pas\n",
      "0.5\n",
      "ne converge pas\n",
      "0.6\n",
      "ne converge pas\n",
      "0.7\n",
      "ne converge pas\n",
      "0.8\n",
      "ne converge pas\n",
      "0.9\n",
      "ne converge pas\n"
     ]
    }
   ],
   "source": [
    "'''\n",
    "ici, j'ai pris la liberté d'en faire plus afin d'obtenir\n",
    "des sorties plus visuelles lorsque l'on fait tourner le programme,\n",
    "ces parties seront indiquées en commentaire\n",
    "'''\n",
    "\n",
    "def iter_point_fixe_relax(k, x0, relax=0.5):\n",
    "    max_iter = 100 # on commence par définir un nombre maximal d'itération comme test d'arrêt\n",
    "    w = relax # notre coefficient de relaxation omega\n",
    "    print(w) # on affiche omega pour rendre compte de la convergence selon sa valeur dans ]0, 1[\n",
    "    x_iter = x0 # on initialise la méthode\n",
    "    iter = 0 # on initialise l'indexeur sur lequel nous allons boucler\n",
    "    x_prec = 100000 # x de la précédente itération qui permet de calculer le résidu x_k+1 - x_k\n",
    "                    #qui servira aussi de test d'arrêt\n",
    "        \n",
    "    while iter < max_iter and np.abs(x_iter - x_prec) > 1e-7:\n",
    "        x_prec = x_iter # nouvelle attribution du x précédent\n",
    "        if np.abs(x_prec) > 1e7: # condition d'arrêt si la méthode diverge en l'infini\n",
    "            return \"ne converge pas\"\n",
    "        x_iter = w * f(x_iter) + (1 - w) * x_iter # calcul de l'itération x_k+1\n",
    "        iter += 1 # c'est un while, on incrémente l'itération pour ne pas bloquer la boucle...\n",
    "    if iter == max_iter: # nouveau test d'arrêt sur le nombre d'itération si l'on dépasse le nombre maximal d'itérations\n",
    "        return \"ne converge pas\"\n",
    "    return np.round(x_iter, 7), iter    # on renvoie la dernière valeur de x trouvée arrondie à la précision choisie\n",
    "                                        #ainsi que le nombre nécéssaire d'itérations pour l'atteindre\n",
    "\n",
    "    \n",
    "for u in [1, 2, 4, 8]: # On applique la méthode pour différents points de départ\n",
    "    print(\"x0 =\", u) # affiche le point de départ choisi\n",
    "    for j in range(1, 10): # boucle pour faire varier omega = j / 10 entre 0 et 1\n",
    "        print(iter_point_fixe_relax(10, u, j / 10)) # on affiche le résultat trouvé et le nombre d'itération nécessaires"
   ]
  },
  {
   "cell_type": "markdown",
   "metadata": {},
   "source": [
    "L'ensemble des lignes précédentes permet de constater que non-seulement la méthode ne marche pas toujours, mais surtout que pour obtenir une précision de 7 chiffres après la virgule, il faut parfois jusqu'a 52 itérations pour un certain choix de $\\omega$. Passons au niveau supérieur avec un outil plus puissant : La méthode de Newton\n",
    "\n",
    "La méthode de Newton (ou encore méthode de Newton-Raphson sur $\\mathbb R$) est une méthode de calcul permettant de trouver les zéros d'une fonction (tout du moins d'approximer leur valeur avec une grande précision). Qu'on la regarde d'un point de vue géométrique, ou bien algébrique, il s'agit d'une méthode merveilleuse : Convergence rapide, méthode élégante, formulation simple, ... Tout n'est cependant pas tout rose, l'incovénient majeur de ce procédé réside, en effet, dans le fait que la convergence de la méthode n'est assurée que dans une certaine zone autour du zéro. Le problème survenant lorsque l'on n'a aucune idée d'où il devrait se situer, l'application à notre exemple défini en introduction ne devrait poser aucun problème !\n",
    "\n",
    "Dans le principe la méthode de Newton est définie récursivement par la relation suivante :\n",
    "\n",
    "- **init** : prendre $x_0 \\in \\mathbb R$\n",
    "- **iter** : pour $x_k \\in \\mathbb R$ connu, on écrit $g'(x_k)(x_{k+1} - x_k) = -g(x_k)$\n",
    "\n",
    "si, de plus, la dérivée $g'$ de $g$ ne s'annule pas, on peut écrire explicitement $x_{k+1} = x_k - \\frac{g(x_k)}{g'(x_k)}$.\n",
    "\n",
    "Dans notre cas la dérivée $g'$ de $g$ est non nulle sur un voisinage autour de $\\sqrt 3$ on peut alors implémenter la méthode l'esprit tranquille !"
   ]
  },
  {
   "cell_type": "code",
   "execution_count": 5,
   "metadata": {},
   "outputs": [
    {
     "name": "stdout",
     "output_type": "stream",
     "text": [
      "(1.7320508075688772, 5)\n",
      "(1.7320508075688772, 4)\n",
      "(1.7320508075688774, 6)\n",
      "(1.7320508075688774, 7)\n"
     ]
    }
   ],
   "source": [
    "# methode de Newton : g'(x_k) ( x_{k+1} - x_k) = -g(x_k)\n",
    "\n",
    "# définition de la dérivée de l'application g : x --> x^2 - 3\n",
    "def g_deriv(x):\n",
    "    return 2 * x\n",
    "\n",
    "# implémentation de la méthode de Newton\n",
    "def iter_newton(x0):\n",
    "    max_iter = 20 # on fixe un nombre maximal d'itération comme condition d'arrêt\n",
    "    x_iter = x0 # définition du x_0\n",
    "    iter = 0 # initialisation de l'indexeur de la boucle\n",
    "    temp = 100000 # sera utilisé pour calculer le résidu x_k+1 - x_k\n",
    "    while iter < max_iter and np.abs(x_iter - temp) > 10e-7:\n",
    "        temp = x_iter # on garde en mémoire la valeur du x_k précédent\n",
    "        if np.abs(temp) > 1e10: # si à un moment la méthode s'éloigne trop, on s'arrête \n",
    "            return \"ne converge pas\"\n",
    "        x_iter = x_iter - g(x_iter) / g_deriv(x_iter) # définition de l'itération x_k+1\n",
    "        iter += 1 # on oublie pas d'incrémenter l'indexeur\n",
    "    return x_iter, iter # on renvoie le x solution ainsi que le nombre d'itérations nécéssaires pour le trouver\n",
    "\n",
    "for x_init in [1, 2, 4, 8]: # on teste Newton avec comme point de départ 1, 2, 4 puis 8\n",
    "    print(iter_newton(x_init))\n",
    "    \n",
    "    \n",
    "# précis 15 chiffres après la virgule !"
   ]
  },
  {
   "cell_type": "markdown",
   "metadata": {},
   "source": [
    "On peut remarquer que la méthode converge pour chacun des points de départs en environ 5 étapes. La méthode converge donc rapidement, peut-être même trop rapidement pour pouvoir étudier proprement la convergence quadratique prévue par la théorie. Il est toutefois possible de calculer le rapport $\\frac{ x_{k+1}}{x_k}$ à chaque étape et observer comment la suite se comporte pour le point de départ $x_0 = 8$ (les autres points de départ sont traités dans les codes python du dossier) :\n"
   ]
  },
  {
   "cell_type": "code",
   "execution_count": 17,
   "metadata": {},
   "outputs": [
    {
     "name": "stdout",
     "output_type": "stream",
     "text": [
      "0.062499999999999986\n",
      "0.11940298507462689\n",
      "0.2039185847441507\n",
      "0.27207401334861026\n",
      "0.28816954691066204\n",
      "0.28868622564649715\n",
      "53128002.568142645\n",
      "0.0\n"
     ]
    }
   ],
   "source": [
    "max_iter = 20\n",
    "iter = 0\n",
    "x_actuel = 8\n",
    "res = 1\n",
    "while (iter < max_iter) and (res > 1e-7) and (x_actuel != 0):\n",
    "    x_iter = x_actuel - g(x_actuel) / g_deriv(x_actuel)\n",
    "    res = la.norm(x_iter - np.sqrt(3)) / la.norm(x_actuel - np.sqrt(3))**2\n",
    "    x_actuel = x_iter\n",
    "    print(res)\n",
    "    iter += 1\n"
   ]
  },
  {
   "cell_type": "markdown",
   "metadata": {},
   "source": [
    "## Exercice 2 : Les équations non linéarisées du pendule pesant simple\n",
    "\n",
    "On considère le système différentiel\n",
    "\n",
    "$$ \\begin{cases} x'(t) = f( t, x(t) ), t > 0  \\\\ x(0) = x^{(0)}\\end{cases}$$"
   ]
  },
  {
   "cell_type": "markdown",
   "metadata": {},
   "source": [
    "$$f(t, X) = \\begin{bmatrix} x_2 \\\\ -\\sin(x_1) + \\varepsilon \\sin(t) \\end{bmatrix}$$"
   ]
  },
  {
   "cell_type": "markdown",
   "metadata": {},
   "source": [
    "$$ \\begin{bmatrix} acc_1 \\\\ acc_2 \\end{bmatrix} = \\frac{4}{4 - h^2 \\cos (x_1)} \\begin{bmatrix} x_2 - \\frac{h}{2} \\sin(x_1) + \\frac{h \\varepsilon}{2} \\sin(t) \\\\\\frac{h}{2} cos(x_1) x_2 - \\sin(x_1) + \\varepsilon \\sin(t) \\end{bmatrix}$$\n",
    "\n",
    "\n",
    "$\\Large{\\text{LA CONVERGENCE QUADRATIQUE}}$"
   ]
  },
  {
   "cell_type": "code",
   "execution_count": 6,
   "metadata": {},
   "outputs": [
    {
     "data": {
      "image/png": "[encoded data removed]",
      "text/plain": [
       "<Figure size 432x288 with 4 Axes>"
      ]
     },
     "metadata": {
      "needs_background": "light"
     },
     "output_type": "display_data"
    }
   ],
   "source": [
    "N = 10000\n",
    "T = 200\n",
    "h = T / N\n",
    "hbis = T / (2 * N)\n",
    "time = [0]\n",
    "timebis = [0]\n",
    "list_x1 = [0]\n",
    "list_x2 = [0]\n",
    "list_x1bis = [0]\n",
    "list_x2bis = [0]\n",
    "eps = 0.05\n",
    "res = 1e-6\n",
    "\n",
    "def newton(x1o, x2o, h, eps, t):\n",
    "    x1 = x1o\n",
    "    x2 = x2o\n",
    "    max_iter = 20\n",
    "    iter = 0\n",
    "    res = 1\n",
    "    while iter < max_iter and np.abs(res) > 1e-10:\n",
    "        det = 1 / (1 - (h**2 / 4) * np.cos(x1)) #determinant \n",
    "        alpha1 = -(x1 - x1o - h/2 * (x2o + x2)) # première composante du second membre \n",
    "        alpha2 = -(x2 - x2o - h / 2 * (eps * np.sin(t) + eps * np.sin(t + h) - np.sin(x1) - np.sin(x1o))) # deuxième composante du second membre\n",
    "    \n",
    "        acc1 = det * (alpha1 + h/2 * alpha2)                  # | solution du système J_F * acc = - F\n",
    "        acc2 = det * ( h * alpha1 / 2 * np.cos(x1) + alpha2 ) # |\n",
    "        \n",
    "        res = la.norm([acc1, acc2])\n",
    "        \n",
    "        x1 = x1 + acc1\n",
    "        x2 = x2 + acc2\n",
    "        \n",
    "        #print(la.norm(np.array([acc1, acc2], float)))\n",
    "        iter += 1\n",
    "    return x1, x2\n",
    "    \n",
    "t = 0\n",
    "x1, x2 = 0, 0\n",
    "while t < T:\n",
    "    x1, x2 = newton(x1, x2, h, eps, t)\n",
    "    t += h\n",
    "    time.append(t)\n",
    "    list_x1.append(x1)\n",
    "    list_x2.append(x2)\n",
    "    \n",
    "tbis = 0\n",
    "x1bis, x2bis = 0, 0\n",
    "while tbis < T:\n",
    "    x1bis, x2bis = newton(x1bis, x2bis, hbis, eps, tbis)\n",
    "    tbis += hbis\n",
    "    timebis.append(tbis)\n",
    "    list_x1bis.append(x1bis)\n",
    "    list_x2bis.append(x2bis)\n",
    "    \n",
    "\n",
    "# diminuer le pas de temps par 2\n",
    "# implémenter un schéma de Heun pour vérifier le résultat\n",
    "\n",
    "fig, ((a,b), (c, d)) = plt.subplots(2,2)\n",
    "a.plot(time, list_x1, 'r', label=\"x_1(t)\")\n",
    "a.legend()\n",
    "b.plot(timebis, list_x1bis, 'g', label=\"x_1_bis(t)\")\n",
    "b.legend()\n",
    "c.plot(list_x1, list_x2, 'b', label=\"portrait de phase\")\n",
    "c.legend()\n",
    "d.plot(list_x1bis, list_x2bis, 'orange', label=\"portrait de phase bis\")\n",
    "d.legend()\n",
    "plt.show()"
   ]
  },
  {
   "cell_type": "markdown",
   "metadata": {},
   "source": [
    "Dans ces schémas on peut observer que le premier $h$ choisi est suffisamment petit pour obtenir une convergence numérique, en effet, pour notre $h_{bis} < h$ on observe que les portraits de phase sont identiques. "
   ]
  },
  {
   "cell_type": "markdown",
   "metadata": {},
   "source": [
    "### Exercice 3 : Les échelles !\n",
    "\n",
    "Dans cet exercice on considère deux échelles respectivement de 3m et 4m de long posées contre un mur suivant le schéma  proposé ci-dessous (qui diffère légèrement de celui de l'énoncé, complété par mes soins selon mes besoins) :\n",
    "\n",
    "<img src=\"https://i.ibb.co/ncT2TY4/echelles.png\" width=600 height=400 />\n",
    "\n",
    "Dénotons par $A, B, C$ et $D$ et points où les échelles ont un point de contact dans la situation considérée ainsi que $O$ le point d'intersection entre les deux échelles et $I$ la projection au sol du point $O$. Enfin définissons $\\alpha := \\overline{AC}$ et $\\beta := \\overline{BD} $.\n",
    "\n",
    "Il est alors question de trouver la valeur de la distance $d := x + y$ dont nous pouvons donner une expression sous forme de système. Pour ce faire procédons comme suit :\n",
    "\n",
    "- Premièrement, considérons les triangles $\\Delta_{ABC}$ et $\\Delta_{ABD}$, avant d'établir $\\alpha^2 + d^2 = 9$ et $\\beta^2 + d^2 = 16$ en vertu du théorème de Pythagore.\n",
    "\n",
    "- En second lieu, le théorème de Thalès appliqué aux deux triangles permet d'écrire $\\frac{\\overline{OI}}{\\overline{CA}} = \\frac{\\overline{BI}}{\\overline{BA}}$ ainsi que $ \\frac{\\overline{OI}}{\\overline{DB}} = \\frac{\\overline{AI}}{\\overline{AB}}$ autrement dit\n",
    "\n",
    "$$ \\begin{cases} \\frac{1}{\\alpha} = \\frac{y}{x + y} \\\\ \\frac{1}{\\beta} = \\frac{x}{x + y} \\end{cases} \\quad \\iff \\quad \\begin{cases} \\alpha^2 = \\left( \\frac{x + y}{y} \\right)^2 \\\\ \\beta^2 = \\left( \\frac{x + y}{x} \\right)^2\\end{cases}$$\n",
    "\n",
    "- Rentrons la donnée de $\\alpha$ et $\\beta$ ainsi que celle de $d$ dans les équations obtenues au premier point :\n",
    "\n",
    "$$ \\begin{cases} \\beta^2 + d^2 = 16 \\\\\\alpha^2 + d^2 = 9 \\end{cases} \\iff \\begin{cases} \\frac{(x + y)^2}{x^2} + (x + y)^2 = 16 \\qquad \\qquad (1) \\\\ \\frac{(x + y)^2}{y^2} + (x + y)^2 = 9 \\qquad \\qquad (2) \\end{cases}$$\n",
    "\n",
    "- Il ne reste plus qu'à multiplier $(1)$ par $x^2$ et $(2)$ par $y^2$ pour établir le résultat souhaité :\n",
    "\n",
    "$$ \\begin{cases} 16x^2 = (x^2 + 1)(x + y)^2 \\\\ 9y^2 = (y^2 + 1)(x+y)^2 \\end{cases}$$\n",
    "\n",
    "\n",
    "Ce système admet des solutions, qui s'avèrent être fastidieuses à calculer à la main. En ce sens, il peut être intéressant d'appliquer la méthode de Newton en dimension $n =2$ à la fonction $f$ définie comme suit :\n",
    "\n",
    "\\begin{align}\n",
    "f &: \\mathbb{R}^2 \\to \\mathbb{R}^2 \\\\\n",
    "\\begin{bmatrix} x \\\\ y \\end{bmatrix} &\\mapsto \\begin{bmatrix} 16x^2 - (x^2 +1)(x + y)^2 \\\\ 9y^2 - (y^2 + 1)(x + y)^2 \\end{bmatrix}\n",
    "\\end{align}\n",
    "\n",
    "\n",
    "**Et maintenant, direction Python !**\n",
    "\n",
    "Ajoutons donc notre fonction $f$ à notre code :"
   ]
  },
  {
   "cell_type": "code",
   "execution_count": 7,
   "metadata": {},
   "outputs": [],
   "source": [
    "def f(x, y):\n",
    "    d = x + y\n",
    "    return (16*(x**2) - (x**2 + 1)*(d**2) , 9*(y**2) - (y**2 + 1)*(d**2))"
   ]
  },
  {
   "cell_type": "markdown",
   "metadata": {},
   "source": [
    "Une dernière chose avant d'appliquer la méthode de Newton, il reste à vérifier que l'application $f$ est bien différentiable. Or il s'agit d'une somme, produit et composition d'applications toutes différentiables, la vérification est achevée.\n",
    "\n",
    "Bien que connu, on rappelle le procédé d'itération de la méthode de Newton en dimension $2$:\n",
    "\n",
    "- **Init** : prendre $x^{(0)} = (x_0, y_0)^{T} \\in \\mathbb{R}^2$ \n",
    "- **Iter** : pour $x^{(k)} = (x_k, y_k)^{T}$ connu on écrit $\\mathcal{J}_f (x^{(k)}) \\left( x^{(k+1)} - x^{(k)}\\right) = -f(x^{(k)})$\n",
    "\n",
    "autrement dit :\n",
    "\n",
    "$$\n",
    "\\mathcal{J}_f \\left( \\begin{bmatrix} x_k \\\\ y_k \\end{bmatrix} \\right)  \\left( \\begin{bmatrix} x_{k+1} \\\\ y_{k+1} \\end{bmatrix} - \\begin{bmatrix} x_k \\\\ y_k \\end{bmatrix} \\right) = -f \\begin{bmatrix} x_k \\\\ y_k \\end{bmatrix} \\qquad \\qquad (3)\n",
    "$$\n",
    "\n",
    "Où pour $X = (x, y)^T \\in \\mathbb R ^2, \\mathcal{J}_f (X) $ désigne la matrice jacobienne de $f$ appliquée au point $X$, commençons par calculer à la main les coefficients de la jacobienne sachant\n",
    "\n",
    "$$\\mathcal{J}_f(X) = \\begin{bmatrix} \\frac{\\partial f}{\\partial x}(x, y) \\quad \\frac{\\partial f}{\\partial y}(x,y) \\end{bmatrix} $$\n",
    "\n",
    "Après les calculs on obtient :\n",
    "\n",
    "$$\\mathcal{J}_f (X) = \\begin{bmatrix} 32x - 2 (x^2 +1)(x + y) - 2x(x + y)^2 & -2(x^2 + 1)(x+y) \\\\ -2(y^2 + 1)(x+y) & 18y - 2(y^2 + 1)(x+y) - 2y (x + y)^2\\end{bmatrix}$$\n",
    "\n",
    "Dès lors, il ne reste qu'à écrire en python les équations du problème $(3)$"
   ]
  },
  {
   "cell_type": "code",
   "execution_count": 8,
   "metadata": {},
   "outputs": [
    {
     "name": "stdout",
     "output_type": "stream",
     "text": [
      "2.6100766272276377 iter =  0\n",
      "0.8419230719113047 iter =  1\n",
      "0.582747136582452 iter =  2\n",
      "0.3604803758624842 iter =  3\n",
      "0.19702338630400426 iter =  4\n",
      "0.035955607040203015 iter =  5\n",
      "0.0016736637763632614 iter =  6\n",
      "3.375996106876955e-06 iter =  7\n",
      "1.48861590813671e-11 iter =  8\n"
     ]
    }
   ],
   "source": [
    "# cette fonction récupère les coordonnées x et y d'un vecteur puis calcule la jacobienne\n",
    "# de f en ce point\n",
    "def jacobi_f(x, y):\n",
    "    s = x + y\n",
    "    return np.array([[32*x - 2*(x**2 + 1)*s - 2*x*(s**2), -2*(x**2 + 1)*s],\n",
    "                     [-2*(y**2 + 1)*s, 18*y -2*(y**2 + 1)*s - 2*y*(s**2)]], float)\n",
    "\n",
    "\n",
    "# On injecte un point de départ x_0, y_0 et on applique la méthode de Newton\n",
    "def newton(xo, yo):\n",
    "    x = xo # initialisation de la première composante du point de départ\n",
    "    y = yo # initialisation de la seconde composante du point de départ\n",
    "    \n",
    "    max_iter = 20   # on se fixe un nombre maximual d'itération, la méthode de Newton convergent en ordre\n",
    "                    # quadratique, 20 itérations semble raisonnable\n",
    "        \n",
    "    iter = 0 # on initialise le nombre d'itération, ce sera l'indexeur de la boucle while\n",
    "    res = 1 # le résidu calculé par la différence entre x_k et x_k+1. Il servira de condition d'arrêt\n",
    "    \n",
    "    while iter < max_iter and np.abs(res) > 1e-10:\n",
    "        jac = jacobi_f(x, y) # on récupère la jacobienne de f au point x_k et y_k\n",
    "        \n",
    "        alpha = - np.array(f(x, y)) # il s'agit du second membre du système (3)\n",
    "        acc = la.solve(jac, alpha) # accroissement entre x_k+1 et x_k à savoir solution de (3)\n",
    "        acc1, acc2 = acc # ici on récupère la première et seconde composante de l'accroissement en éclatant le tuple\n",
    "        res = la.norm(acc)  # on actualise le résidu comme étant la norme de l'accroissement qui donne\n",
    "                            # une notion de distance entre deux termes\n",
    "    \n",
    "        # Comme x_k+1 - x_k = acc_1 on retourne l'équation pour trouver x_k+1 = x_k + acc_1, idem pour y_k+1\n",
    "        x = x + acc1 # on calcule la valeur de x_k+1...\n",
    "        y = y + acc2 # ... et celle de y_k+1\n",
    "        \n",
    "        print(la.norm(np.array([acc1, acc2], float)), \"iter = \", iter) # on affiche à l'écran le résidu à chaque étape + l'étape\n",
    "        iter += 1 # on incrémente l'indexeur pour ne pas rester bloqué dans la boucle\n",
    "    return x, y # on renvoie le vecteur solution, si convergence il y a\n",
    "\n",
    "\n",
    "x, y = newton(1, 1) # on applique la méthode de Newton en partant du point (1, 1)"
   ]
  },
  {
   "cell_type": "markdown",
   "metadata": {},
   "source": [
    "On conclut en se rappelant qu'un vecteur solution $(x, y)$ du système $(3)$ nous donne la distance $d = x + y$ entre les deux murs. Dans notre cas, la distance $d$ s'évalue donc à"
   ]
  },
  {
   "cell_type": "code",
   "execution_count": 9,
   "metadata": {},
   "outputs": [
    {
     "name": "stdout",
     "output_type": "stream",
     "text": [
      "distance entre les deux murs :  2.603 m\n"
     ]
    }
   ],
   "source": [
    "print(\"distance entre les deux murs : \", np.round(x + y, 3), \"m\")"
   ]
  },
  {
   "cell_type": "markdown",
   "metadata": {},
   "source": [
    "Ce qui permet de conclure ce cinquième et dernier travail pratique d'analyse numérique. Merci d'avoir lu jusqu'ici !"
   ]
  }
 ],
 "metadata": {
  "kernelspec": {
   "display_name": "Python 3",
   "language": "python",
   "name": "python3"
  },
  "language_info": {
   "codemirror_mode": {
    "name": "ipython",
    "version": 3
   },
   "file_extension": ".py",
   "mimetype": "text/x-python",
   "name": "python",
   "nbconvert_exporter": "python",
   "pygments_lexer": "ipython3",
   "version": "3.8.5"
  }
 },
 "nbformat": 4,
 "nbformat_minor": 4
}
