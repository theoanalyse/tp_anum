{
 "cells": [
  {
   "cell_type": "markdown",
   "metadata": {},
   "source": [
    "## Compte rendu Projet, Analyse Numérique\n",
    "\n",
    "\n",
    "\n",
    "1) il s'agit d'une discrétisation du problème par différences finies\n"
   ]
  },
  {
   "cell_type": "code",
   "execution_count": 108,
   "metadata": {},
   "outputs": [],
   "source": [
    "# les eternels imports\n",
    "import numpy as np\n",
    "import numpy.linalg as la\n",
    "import scipy as sp\n",
    "import scipy.linalg as spla\n",
    "import matplotlib.pyplot as plt"
   ]
  },
  {
   "cell_type": "code",
   "execution_count": 125,
   "metadata": {},
   "outputs": [
    {
     "name": "stdout",
     "output_type": "stream",
     "text": [
      "[[ 88.2 -44.1   0.    0.    0.    0.    0.    0.    0.    0.    0.    0.\n",
      "    0.    0.    0.    0.    0.    0.    0.    0. ]\n",
      " [-44.1  88.2 -44.1   0.    0.    0.    0.    0.    0.    0.    0.    0.\n",
      "    0.    0.    0.    0.    0.    0.    0.    0. ]\n",
      " [  0.  -44.1  88.2 -44.1   0.    0.    0.    0.    0.    0.    0.    0.\n",
      "    0.    0.    0.    0.    0.    0.    0.    0. ]\n",
      " [  0.    0.  -44.1  88.2 -44.1   0.    0.    0.    0.    0.    0.    0.\n",
      "    0.    0.    0.    0.    0.    0.    0.    0. ]\n",
      " [  0.    0.    0.  -44.1  88.2 -44.1   0.    0.    0.    0.    0.    0.\n",
      "    0.    0.    0.    0.    0.    0.    0.    0. ]\n",
      " [  0.    0.    0.    0.  -44.1  88.2 -44.1   0.    0.    0.    0.    0.\n",
      "    0.    0.    0.    0.    0.    0.    0.    0. ]\n",
      " [  0.    0.    0.    0.    0.  -44.1  88.2 -44.1   0.    0.    0.    0.\n",
      "    0.    0.    0.    0.    0.    0.    0.    0. ]\n",
      " [  0.    0.    0.    0.    0.    0.  -44.1  88.2 -44.1   0.    0.    0.\n",
      "    0.    0.    0.    0.    0.    0.    0.    0. ]\n",
      " [  0.    0.    0.    0.    0.    0.    0.  -44.1  88.2 -44.1   0.    0.\n",
      "    0.    0.    0.    0.    0.    0.    0.    0. ]\n",
      " [  0.    0.    0.    0.    0.    0.    0.    0.  -44.1  88.2 -44.1   0.\n",
      "    0.    0.    0.    0.    0.    0.    0.    0. ]\n",
      " [  0.    0.    0.    0.    0.    0.    0.    0.    0.  -44.1  88.2 -44.1\n",
      "    0.    0.    0.    0.    0.    0.    0.    0. ]\n",
      " [  0.    0.    0.    0.    0.    0.    0.    0.    0.    0.  -44.1  88.2\n",
      "  -44.1   0.    0.    0.    0.    0.    0.    0. ]\n",
      " [  0.    0.    0.    0.    0.    0.    0.    0.    0.    0.    0.  -44.1\n",
      "   88.2 -44.1   0.    0.    0.    0.    0.    0. ]\n",
      " [  0.    0.    0.    0.    0.    0.    0.    0.    0.    0.    0.    0.\n",
      "  -44.1  88.2 -44.1   0.    0.    0.    0.    0. ]\n",
      " [  0.    0.    0.    0.    0.    0.    0.    0.    0.    0.    0.    0.\n",
      "    0.  -44.1  88.2 -44.1   0.    0.    0.    0. ]\n",
      " [  0.    0.    0.    0.    0.    0.    0.    0.    0.    0.    0.    0.\n",
      "    0.    0.  -44.1  88.2 -44.1   0.    0.    0. ]\n",
      " [  0.    0.    0.    0.    0.    0.    0.    0.    0.    0.    0.    0.\n",
      "    0.    0.    0.  -44.1  88.2 -44.1   0.    0. ]\n",
      " [  0.    0.    0.    0.    0.    0.    0.    0.    0.    0.    0.    0.\n",
      "    0.    0.    0.    0.  -44.1  88.2 -44.1   0. ]\n",
      " [  0.    0.    0.    0.    0.    0.    0.    0.    0.    0.    0.    0.\n",
      "    0.    0.    0.    0.    0.  -44.1  88.2 -44.1]\n",
      " [  0.    0.    0.    0.    0.    0.    0.    0.    0.    0.    0.    0.\n",
      "    0.    0.    0.    0.    0.    0.  -44.1  88.2]]\n",
      "[44.1  0.   0.   0.   0.   0.   0.   0.   0.   0.   0.   0.   0.   0.\n",
      "  0.   0.   0.   0.   0.  88.2]\n"
     ]
    }
   ],
   "source": [
    "n = 20\n",
    "h = 1 / (n + 1)\n",
    "h2 = h*h\n",
    "\n",
    "def function_R(u):\n",
    "    # input : u \\in R^n\n",
    "    R = []\n",
    "    for i in range(n): \n",
    "        r_i = 0\n",
    "        for j in range(n):\n",
    "            if j != i:\n",
    "                term = np.sqrt(h) * (u[i]**4 - u[j]**4) / np.sqrt(np.abs(i - j))\n",
    "                r_i += term\n",
    "        r_i += np.sqrt(h) * (u[i]**4 - 1) / (2 * np.sqrt(1 + i))\n",
    "        r_i += np.sqrt(h) * (u[i]**4 - 16) / (2 * np.sqrt(n - i))\n",
    "        R.append(r_i)\n",
    "    #return np.zeros(n)\n",
    "    return np.array(R, float)\n",
    "\n",
    "\n",
    "A = np.zeros((n, n))\n",
    "for j in range(n):\n",
    "    for i in range(n):\n",
    "        if j == i:\n",
    "            A[i, j] = 2\n",
    "        elif np.abs(j - i) == 1:\n",
    "            A[i, j] = -1\n",
    "\n",
    "A = A / (10 * h2)\n",
    "print(A)\n",
    "\n",
    "b = np.zeros(n)\n",
    "b[0] = 1 / (10 * h2)\n",
    "b[n-1] = 2 / (10 * h2)\n",
    "print(b)"
   ]
  },
  {
   "cell_type": "code",
   "execution_count": 126,
   "metadata": {},
   "outputs": [],
   "source": [
    "def methode_iterative(A, b, beta, u0=np.ones(n)):\n",
    "    max_iter = 1000\n",
    "    iter = 0\n",
    "    res = 1\n",
    "    u = u0\n",
    "    while iter < max_iter and res > 1e-7:\n",
    "        # (A + beta I) uk+1 = -R(uk) + beta uk + b\n",
    "        A_ = A + beta * np.identity(n)\n",
    "        b_ = - function_R(u) + beta * u + b\n",
    "        \n",
    "        sol = la.solve(A_, b_)\n",
    "        res = la.norm((u - sol))\n",
    "        \n",
    "        u = sol\n",
    "        \n",
    "        iter += 1\n",
    "    return u, iter"
   ]
  },
  {
   "cell_type": "code",
   "execution_count": 127,
   "metadata": {},
   "outputs": [
    {
     "data": {
      "text/plain": [
       "[<matplotlib.lines.Line2D at 0x22c8fff4c70>]"
      ]
     },
     "execution_count": 127,
     "metadata": {},
     "output_type": "execute_result"
    },
    {
     "data": {
      "image/png": "[encoded data removed]",
      "text/plain": [
       "<Figure size 432x288 with 1 Axes>"
      ]
     },
     "metadata": {
      "needs_background": "light"
     },
     "output_type": "display_data"
    }
   ],
   "source": [
    "x = np.array([i*h for i in range(1, n+1)])\n",
    "u, nb_iter = methode_iterative(A, b, 100)\n",
    "plt.plot(x, u)"
   ]
  }
 ],
 "metadata": {
  "kernelspec": {
   "display_name": "Python 3",
   "language": "python",
   "name": "python3"
  },
  "language_info": {
   "codemirror_mode": {
    "name": "ipython",
    "version": 3
   },
   "file_extension": ".py",
   "mimetype": "text/x-python",
   "name": "python",
   "nbconvert_exporter": "python",
   "pygments_lexer": "ipython3",
   "version": "3.8.5"
  }
 },
 "nbformat": 4,
 "nbformat_minor": 4
}
